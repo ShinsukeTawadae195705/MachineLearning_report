{
 "cells": [
  {
   "cell_type": "markdown",
   "id": "bd93ab31-1bcc-4d2c-9823-67ebce40f6aa",
   "metadata": {},
   "source": [
    "### モジュールのインポート"
   ]
  },
  {
   "cell_type": "code",
   "execution_count": 2,
   "id": "2c466374-b06b-42cf-9d29-63ae058436de",
   "metadata": {},
   "outputs": [],
   "source": [
    "import os\n",
    "import cv2\n",
    "import numpy as np\n",
    "from sklearn.metrics import accuracy_score\n",
    "from sklearn.model_selection import cross_val_score\n",
    "import keras\n",
    "from keras.models import Sequential\n",
    "from keras.layers import Dense, Dropout\n",
    "from tensorflow.keras import utils as np_utils\n",
    "from sklearn.metrics import confusion_matrix\n",
    "import tensorflow as tf\n",
    "from sklearn.model_selection import train_test_split\n",
    "from keras.callbacks import EarlyStopping\n",
    "import matplotlib.pyplot as plt\n",
    "import pandas as pd\n",
    "\n",
    "early_stopping = EarlyStopping(monitor=\"val_accuracy\",\n",
    "                              min_delta=0.0,\n",
    "                              patience=5)"
   ]
  },
  {
   "cell_type": "markdown",
   "id": "18690cb7-722b-4791-a626-f82bf5e25ad1",
   "metadata": {},
   "source": [
    "### ヒロインたちのリスト & 色"
   ]
  },
  {
   "cell_type": "code",
   "execution_count": 3,
   "id": "8b8c7859-3174-4c94-b85d-4e0a0a5bf68c",
   "metadata": {},
   "outputs": [],
   "source": [
    "five_sisters = [\"Ichika\", \"Nino\", \"Miku\", \"Yotsuba\", \"Itsuki\", \"other\"] #各ヒロイン名+その他\n",
    "mem_colors = [(0,255,255), (255,0,204), (255,255,0), (0,255,0), (0,0,255), (255,255,255)] #five_sistersと対応した色"
   ]
  },
  {
   "cell_type": "markdown",
   "id": "77b2cd60-974a-4be6-98f6-f407b1451c6a",
   "metadata": {},
   "source": [
    "### 学習"
   ]
  },
  {
   "cell_type": "code",
   "execution_count": 4,
   "id": "0747ddf8-9c8b-4a83-996b-cf7de8a2eb51",
   "metadata": {},
   "outputs": [],
   "source": [
    "#get_cut_face.pyにて切り出したグレースケール顔画像を取得\n",
    "def get_dataset():\n",
    "    X, y = [], []\n",
    "    \n",
    "    for i in range(len(five_sisters)):\n",
    "        input_file = \"/Users/tdesu/myhobby/画像認識/五等分の花嫁/faces/\" #フルパスでないとダメ\n",
    "        file = os.listdir(input_file + five_sisters[i])\n",
    "        count = len(file) #顔画像の枚数取得\n",
    "        for j in range(1, count):\n",
    "            #グレースケールで顔画像取得後、正方形サイズ(28×28)にresize & 配列を1列に変換 & 正規化\n",
    "            gray = cv2.imread(input_file + five_sisters[i] + \"/\" + \"face_cut_\" + five_sisters[i] + str(j) + \".jpg\", 0)\n",
    "            img = cv2.resize(gray, (28,28))\n",
    "            img = img.astype(np.float32)/255.0\n",
    "            X.append(img)\n",
    "            y.append(i)\n",
    "                \n",
    "    return X, y"
   ]
  },
  {
   "cell_type": "code",
   "execution_count": 5,
   "id": "cb4345e2-5c72-4c93-a91e-e7cb0965c912",
   "metadata": {},
   "outputs": [],
   "source": [
    "#データセットを均等な割合で取得(train:test = 8:2)\n",
    "X, y = get_dataset()\n",
    "X_train, X_test, y_train, y_test = train_test_split(X, y, shuffle=True, test_size=0.2, stratify=y)"
   ]
  },
  {
   "cell_type": "code",
   "execution_count": 6,
   "id": "8762f439-8f02-4f77-ac99-64dc9fa5f25d",
   "metadata": {},
   "outputs": [],
   "source": [
    "batch_size = 100 #1度の処理する画像枚数\n",
    "num_classes = 6 #分類数\n",
    "epochs = 50 #学習回数\n",
    "\n",
    "#X_train,X_testの形をy_train,y_testに合わせる(ここで2時間は悩んだw)\n",
    "X_train = np.array(X_train)\n",
    "X_test = np.array(X_test)\n",
    "y_train = np.array(y_train)\n",
    "y_test = np.array(y_test)\n",
    "#kerasで扱いやすい形に成形(one-hot表現に変換)\n",
    "y_train = np_utils.to_categorical(y_train, num_classes)\n",
    "y_test = np_utils.to_categorical(y_test, num_classes)"
   ]
  },
  {
   "cell_type": "code",
   "execution_count": 7,
   "id": "d263e8ad-bd05-4912-a9e1-74083e7177de",
   "metadata": {},
   "outputs": [],
   "source": [
    "#モデル構築(CNNのレイヤー設定)\n",
    "model = Sequential()\n",
    "\n",
    "model.add(keras.layers.Conv2D(filters=64, kernel_size=(5,5),\n",
    "                             padding=\"same\", data_format=\"channels_last\",\n",
    "                             name=\"conv_1\", activation=\"relu\"))\n",
    "#model.add(keras.layers.BatchNormalization())\n",
    "model.add(keras.layers.MaxPool2D(pool_size=(2,2), name=\"pool_1\"))\n",
    "model.add(keras.layers.Conv2D(filters=64, kernel_size=(5,5),\n",
    "                             padding=\"same\", name=\"conv_2\", activation=\"relu\"))\n",
    "#model.add(keras.layers.BatchNormalization())\n",
    "model.add(keras.layers.MaxPool2D(pool_size=(2,2), name=\"pool_2\"))\n",
    "model.add(keras.layers.Conv2D(filters=128, kernel_size=(5,5),\n",
    "                             padding=\"same\", name=\"conv_3\", activation=\"relu\"))\n",
    "#model.add(keras.layers.BatchNormalization())\n",
    "model.add(keras.layers.MaxPool2D(pool_size=(2,2), name=\"pool_3\"))\n",
    "model.add(keras.layers.Flatten()) #平坦化\n",
    "#model.compute_output_shape(input_shape=(None,28,28,1))\n",
    "model.add(keras.layers.Dense(units=1024, name=\"fc_1\", activation=\"relu\")) #1024分割\n",
    "model.add(keras.layers.Dropout(rate=0.25)) #過学習を避けるため\n",
    "model.add(keras.layers.Dense(units=512, name=\"fc_2\", activation=\"relu\"))\n",
    "model.add(keras.layers.Dropout(rate=0.25))\n",
    "model.add(keras.layers.Dense(units=6, name=\"output\", activation=\"softmax\")) #最終目標の6分割\n",
    "\n",
    "model.build(input_shape=(None,28,28,1))"
   ]
  },
  {
   "cell_type": "code",
   "execution_count": 8,
   "id": "daf543dd-0da9-4e88-af1e-c5d6ba6277a6",
   "metadata": {},
   "outputs": [
    {
     "name": "stdout",
     "output_type": "stream",
     "text": [
      "Model: \"sequential\"\n",
      "_________________________________________________________________\n",
      "Layer (type)                 Output Shape              Param #   \n",
      "=================================================================\n",
      "conv_1 (Conv2D)              (None, 28, 28, 64)        1664      \n",
      "_________________________________________________________________\n",
      "pool_1 (MaxPooling2D)        (None, 14, 14, 64)        0         \n",
      "_________________________________________________________________\n",
      "conv_2 (Conv2D)              (None, 14, 14, 64)        102464    \n",
      "_________________________________________________________________\n",
      "pool_2 (MaxPooling2D)        (None, 7, 7, 64)          0         \n",
      "_________________________________________________________________\n",
      "conv_3 (Conv2D)              (None, 7, 7, 128)         204928    \n",
      "_________________________________________________________________\n",
      "pool_3 (MaxPooling2D)        (None, 3, 3, 128)         0         \n",
      "_________________________________________________________________\n",
      "flatten (Flatten)            (None, 1152)              0         \n",
      "_________________________________________________________________\n",
      "fc_1 (Dense)                 (None, 1024)              1180672   \n",
      "_________________________________________________________________\n",
      "dropout (Dropout)            (None, 1024)              0         \n",
      "_________________________________________________________________\n",
      "fc_2 (Dense)                 (None, 512)               524800    \n",
      "_________________________________________________________________\n",
      "dropout_1 (Dropout)          (None, 512)               0         \n",
      "_________________________________________________________________\n",
      "output (Dense)               (None, 6)                 3078      \n",
      "=================================================================\n",
      "Total params: 2,017,606\n",
      "Trainable params: 2,017,606\n",
      "Non-trainable params: 0\n",
      "_________________________________________________________________\n"
     ]
    }
   ],
   "source": [
    "model.summary()\n",
    "model.compile(optimizer=keras.optimizers.Adam(),\n",
    "              loss=\"categorical_crossentropy\", #one-hotエンコーディングなので\n",
    "              metrics=[\"accuracy\"])"
   ]
  },
  {
   "cell_type": "code",
   "execution_count": 9,
   "id": "08a21405-c002-4d35-9f8f-0d90f68348cc",
   "metadata": {},
   "outputs": [
    {
     "name": "stdout",
     "output_type": "stream",
     "text": [
      "Epoch 1/50\n",
      "31/31 [==============================] - 17s 171ms/step - loss: 1.7979 - accuracy: 0.2018 - val_loss: 1.7710 - val_accuracy: 0.1645\n",
      "Epoch 2/50\n",
      "31/31 [==============================] - 5s 164ms/step - loss: 1.7402 - accuracy: 0.2156 - val_loss: 1.6463 - val_accuracy: 0.3290\n",
      "Epoch 3/50\n",
      "31/31 [==============================] - 5s 179ms/step - loss: 1.5211 - accuracy: 0.3965 - val_loss: 1.2618 - val_accuracy: 0.5405\n",
      "Epoch 4/50\n",
      "31/31 [==============================] - 5s 161ms/step - loss: 1.2254 - accuracy: 0.5509 - val_loss: 1.0506 - val_accuracy: 0.6175\n",
      "Epoch 5/50\n",
      "31/31 [==============================] - 5s 154ms/step - loss: 0.9358 - accuracy: 0.6690 - val_loss: 0.8376 - val_accuracy: 0.7076\n",
      "Epoch 6/50\n",
      "31/31 [==============================] - 5s 146ms/step - loss: 0.7473 - accuracy: 0.7494 - val_loss: 0.7177 - val_accuracy: 0.7389\n",
      "Epoch 7/50\n",
      "31/31 [==============================] - 4s 145ms/step - loss: 0.5640 - accuracy: 0.8125 - val_loss: 0.5711 - val_accuracy: 0.8042\n",
      "Epoch 8/50\n",
      "31/31 [==============================] - 5s 147ms/step - loss: 0.4508 - accuracy: 0.8510 - val_loss: 0.4918 - val_accuracy: 0.8446\n",
      "Epoch 9/50\n",
      "31/31 [==============================] - 4s 145ms/step - loss: 0.3499 - accuracy: 0.8883 - val_loss: 0.4319 - val_accuracy: 0.8446\n",
      "Epoch 10/50\n",
      "31/31 [==============================] - 5s 146ms/step - loss: 0.2436 - accuracy: 0.9160 - val_loss: 0.4169 - val_accuracy: 0.8642\n",
      "Epoch 11/50\n",
      "31/31 [==============================] - 5s 153ms/step - loss: 0.2158 - accuracy: 0.9345 - val_loss: 0.3652 - val_accuracy: 0.8825\n",
      "Epoch 12/50\n",
      "31/31 [==============================] - 5s 146ms/step - loss: 0.1551 - accuracy: 0.9533 - val_loss: 0.4043 - val_accuracy: 0.8708\n",
      "Epoch 13/50\n",
      "31/31 [==============================] - 5s 148ms/step - loss: 0.1301 - accuracy: 0.9598 - val_loss: 0.5346 - val_accuracy: 0.8433\n",
      "Epoch 14/50\n",
      "31/31 [==============================] - 4s 145ms/step - loss: 0.1740 - accuracy: 0.9482 - val_loss: 0.4337 - val_accuracy: 0.8799\n",
      "Epoch 15/50\n",
      "31/31 [==============================] - 5s 148ms/step - loss: 0.1197 - accuracy: 0.9647 - val_loss: 0.4151 - val_accuracy: 0.8760\n",
      "Epoch 16/50\n",
      "31/31 [==============================] - 4s 144ms/step - loss: 0.0887 - accuracy: 0.9728 - val_loss: 0.3666 - val_accuracy: 0.8943\n",
      "Epoch 17/50\n",
      "31/31 [==============================] - 4s 145ms/step - loss: 0.0777 - accuracy: 0.9757 - val_loss: 0.3720 - val_accuracy: 0.8982\n",
      "Epoch 18/50\n",
      "31/31 [==============================] - 5s 149ms/step - loss: 0.0509 - accuracy: 0.9850 - val_loss: 0.4033 - val_accuracy: 0.9073\n",
      "Epoch 19/50\n",
      "31/31 [==============================] - 5s 152ms/step - loss: 0.0458 - accuracy: 0.9860 - val_loss: 0.4354 - val_accuracy: 0.8956\n",
      "Epoch 20/50\n",
      "31/31 [==============================] - 5s 147ms/step - loss: 0.0365 - accuracy: 0.9929 - val_loss: 0.3806 - val_accuracy: 0.8995\n",
      "Epoch 21/50\n",
      "31/31 [==============================] - 5s 152ms/step - loss: 0.0321 - accuracy: 0.9886 - val_loss: 0.4023 - val_accuracy: 0.9047\n",
      "Epoch 22/50\n",
      "31/31 [==============================] - 5s 150ms/step - loss: 0.0398 - accuracy: 0.9890 - val_loss: 0.4628 - val_accuracy: 0.8903\n",
      "Epoch 23/50\n",
      "31/31 [==============================] - 5s 154ms/step - loss: 0.0293 - accuracy: 0.9889 - val_loss: 0.4521 - val_accuracy: 0.8995\n"
     ]
    }
   ],
   "source": [
    "#学習開始\n",
    "X_train = np.reshape(X_train, (X_train.shape[0], 28, 28, 1))\n",
    "X_test = np.reshape(X_test, (X_test.shape[0], 28, 28, 1))\n",
    "\n",
    "history = model.fit(X_train, y_train,\n",
    "                   batch_size=batch_size,\n",
    "                   epochs=epochs,\n",
    "                   verbose=1,\n",
    "                   validation_data=(X_test, y_test),\n",
    "                   callbacks=[early_stopping])"
   ]
  },
  {
   "cell_type": "markdown",
   "id": "18dcab54-bef2-4a8b-af91-c127d28c43b4",
   "metadata": {},
   "source": [
    "### 学習グラフ"
   ]
  },
  {
   "cell_type": "code",
   "execution_count": 10,
   "id": "0ddced26-24b9-45de-ace7-d13a3c1dc68e",
   "metadata": {},
   "outputs": [
    {
     "data": {
      "image/png": "[encoded data removed]",
      "text/plain": [
       "<Figure size 432x288 with 1 Axes>"
      ]
     },
     "metadata": {
      "needs_background": "light"
     },
     "output_type": "display_data"
    }
   ],
   "source": [
    "import matplotlib.pyplot as plt\n",
    "\n",
    "plt.plot(history.history[\"accuracy\"], label=\"acc\", ls=\"-\", marker=\"o\")\n",
    "plt.plot(history.history[\"val_accuracy\"], label=\"val_acc\", ls=\"-\", marker=\"o\")\n",
    "plt.xlabel(\"epochs\")\n",
    "plt.ylabel(\"accuracy\")\n",
    "plt.legend(loc=\"best\")\n",
    "plt.show()"
   ]
  },
  {
   "cell_type": "markdown",
   "id": "f1ec09c9-43da-47e0-8d44-5da61a237af4",
   "metadata": {},
   "source": [
    "### モデルの保存 & 読み込み"
   ]
  },
  {
   "cell_type": "code",
   "execution_count": 11,
   "id": "d357407a-cc10-44e7-872c-8c0b73f90ab5",
   "metadata": {},
   "outputs": [],
   "source": [
    "model.save(\"/Users/tdesu/myhobby/画像認識/五等分の花嫁/models/model.h5\")"
   ]
  },
  {
   "cell_type": "code",
   "execution_count": 3,
   "id": "18698ecc-3400-4220-a1c6-edce529bff10",
   "metadata": {},
   "outputs": [],
   "source": [
    "model = keras.models.load_model(\"/Users/tdesu/myhobby/画像認識/五等分の花嫁/models/model.h5\")"
   ]
  },
  {
   "cell_type": "markdown",
   "id": "78ff9edb-e018-42dd-a680-d3ff98a38ebe",
   "metadata": {},
   "source": [
    "### テストデータへの適応確認"
   ]
  },
  {
   "cell_type": "code",
   "execution_count": 12,
   "id": "4bb29b6b-8b6a-40b2-989b-4e0a87df5149",
   "metadata": {},
   "outputs": [],
   "source": [
    "chara_dict = dict(zip(range(6), five_sisters))"
   ]
  },
  {
   "cell_type": "code",
   "execution_count": 13,
   "id": "772a14be-2da6-4e1d-9e2c-92220adc3ee4",
   "metadata": {},
   "outputs": [
    {
     "data": {
      "image/png": "[encoded data removed]",
      "text/plain": [
       "<Figure size 1440x576 with 5 Axes>"
      ]
     },
     "metadata": {
      "needs_background": "light"
     },
     "output_type": "display_data"
    }
   ],
   "source": [
    "fig, ax = plt.subplots(1, 5, figsize=(20, 8))\n",
    "for i, pred_img in enumerate(X_test[:5]):\n",
    "    y_pred = model.predict(pred_img.reshape(1,28,28,1))\n",
    "    ax[i].imshow(pred_img.reshape(28,28), cmap=\"gray\")\n",
    "    ax[i].set_title(f\"y_pred: {chara_dict[y_pred.argmax()]}, y_true: {chara_dict[y_test[i].argmax()]}\")"
   ]
  },
  {
   "cell_type": "markdown",
   "id": "428f5926-a7b9-409a-b558-8232b4383f09",
   "metadata": {},
   "source": [
    "### 未知のデータに適応"
   ]
  },
  {
   "cell_type": "code",
   "execution_count": 19,
   "id": "688cfb93-5bb8-40d2-a0e5-b1f582c0d54c",
   "metadata": {},
   "outputs": [
    {
     "name": "stdout",
     "output_type": "stream",
     "text": [
      "3\n",
      "1\n",
      "2\n",
      "0\n",
      "4\n",
      "5\n"
     ]
    },
    {
     "data": {
      "text/plain": [
       "True"
      ]
     },
     "execution_count": 19,
     "metadata": {},
     "output_type": "execute_result"
    }
   ],
   "source": [
    "#顔検出関数\n",
    "def detect(image, cascade_path = \"/Users/tdesu/myhobby/画像認識/lbpcascade_animeface/lbpcascade_animeface.xml\"):\n",
    "    cascade = cv2.CascadeClassifier(cascade_path)\n",
    "    gray = cv2.cvtColor(image, cv2.COLOR_BGR2GRAY) #グレースケール変換\n",
    "    #gray = cv2.equalizeHist(gray)\n",
    "\n",
    "    faces = cascade.detectMultiScale(gray,\n",
    "                                     scaleFactor = 1.1,\n",
    "                                     minNeighbors=1,\n",
    "                                     minSize = (20, 20)) #minSizeが大きいと複数人認識できない\n",
    "    \n",
    "    return faces\n",
    "\n",
    "#検出された顔を識別する関数\n",
    "def recognition(image, faces):\n",
    "    face_images = []\n",
    "    preds = []\n",
    "    \n",
    "    temp_img = image.copy()\n",
    "    temp_img = cv2.cvtColor(temp_img, cv2.COLOR_BGR2GRAY) #グレースケール変換\n",
    "\n",
    "    if len(faces) != 0:\n",
    "        for x, y, w, h in faces:\n",
    "            face_cut = temp_img[y:y+h, x:x+w]\n",
    "            face_cut = cv2.resize(face_cut, (28, 28))\n",
    "            face_cut = face_cut.astype(np.float32)/255.0\n",
    "            face_images.append(face_cut)\n",
    "    \n",
    "    for face_image in face_images:\n",
    "        face_image = face_image.reshape(1,28,28,1)\n",
    "        pred = model.predict(face_image)\n",
    "        preds.append(pred)\n",
    "\n",
    "    return preds, image\n",
    "\n",
    "#識別結果を描画する関数\n",
    "def draw_result(image, faces, result):\n",
    "\n",
    "    for num, (x, y, w, h) in enumerate(faces):\n",
    "        classNum = 0\n",
    "        result_data = result[num]\n",
    "        classNum = result_data.argmax()\n",
    "        rate = np.sort(result_data)\n",
    "        score = rate[-1].max()\n",
    "        print(classNum)\n",
    "        recognized_class = five_sisters[classNum]\n",
    "        color = mem_colors[classNum]\n",
    "        \n",
    "        cv2.rectangle(image, (x,y), (x+w, y+h), color, 3)\n",
    "        cv2.putText(image, five_sisters[classNum], (x,y+h+15), cv2.FONT_HERSHEY_COMPLEX, 0.5, color)\n",
    "        cv2.putText(image, \"%4.1f%%\" %(score*100), (x,y+h+30), cv2.FONT_HERSHEY_COMPLEX, 0.5, color)\n",
    "\n",
    "    return image\n",
    "\n",
    "#ファイル読み込み\n",
    "img = cv2.imread(\"/Users/tdesu/myhobby/画像認識/五等分の花嫁/figures_1/000001.jpg\")\n",
    "\n",
    "faces = detect(img)\n",
    "\n",
    "result, image = recognition(img, faces)\n",
    "\n",
    "image = draw_result(image, faces, result)\n",
    "cv2.imwrite('out.png',image)"
   ]
  },
  {
   "cell_type": "code",
   "execution_count": null,
   "id": "f2ba958b-59b6-4c7a-90c5-cca6135c7541",
   "metadata": {},
   "outputs": [],
   "source": []
  }
 ],
 "metadata": {
  "kernelspec": {
   "display_name": "Python 3",
   "language": "python",
   "name": "python3"
  },
  "language_info": {
   "codemirror_mode": {
    "name": "ipython",
    "version": 3
   },
   "file_extension": ".py",
   "mimetype": "text/x-python",
   "name": "python",
   "nbconvert_exporter": "python",
   "pygments_lexer": "ipython3",
   "version": "3.8.8"
  }
 },
 "nbformat": 4,
 "nbformat_minor": 5
}
